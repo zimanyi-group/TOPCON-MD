{
 "cells": [
  {
   "cell_type": "code",
   "execution_count": 2,
   "metadata": {},
   "outputs": [
    {
     "name": "stdout",
     "output_type": "stream",
     "text": [
      "/home/agoga/documents/code/topcon-md/neb-out/FullSet/\n"
     ]
    }
   ],
   "source": [
    "%load_ext autoreload\n",
    "%autoreload 2\n",
    "\n",
    "from mpl_toolkits.mplot3d import Axes3D\n",
    "import matplotlib.pyplot as plt\n",
    "import pandas as pd\n",
    "import numpy as np\n",
    "\n",
    "import statistics\n",
    "from pathlib import Path\n",
    "import py.NEBTools as nt\n",
    "from operator import itemgetter\n",
    "\n",
    "\n",
    "pairspath=\"/home/agoga/documents/code/topcon-md/data/neb/FullSet/\"\n",
    "nebfolder=\"/home/agoga/documents/code/topcon-md/neb-out/\"\n",
    "\n",
    "\n",
    "group=[\"FullSet/\"] #\"farm/6169019/\",\"farm/6169020/\",\"farm/6169021/\",\"farm/6169022/\"]#\n",
    "#group=[\"farm/perpPairs/\",\"farm/parallelPairs/\"]\n",
    "\n",
    "multiplot=[]\n",
    "clean=False #do this very rarely when you get lots of new data from farm\n",
    "\n",
    "for g in group:\n",
    "    \n",
    "    gpath=nebfolder+g\n",
    "   \n",
    "    print(gpath)\n",
    "    \n",
    "    \n",
    "    if clean:\n",
    "        cleanlist=[] \n",
    "        subfolders=\"farm-folders/\"\n",
    "        print(f\"Cleaning the {g+subfolders} directory, this may take a while.\")\n",
    "        for d in Path(gpath+subfolders).rglob('**/*.csv'):\n",
    "            cleanlist.append(str(d))        \n",
    "        cleandf=nt.clean_csvs(cleanlist,gpath)\n",
    "        \n",
    "        nt.clean_pairfiles(cleandf,pairspath)\n",
    "    else:\n",
    "        csvlist=[]\n",
    "        i=0\n",
    "        for d in Path(gpath).glob('*.csv'):\n",
    "            csvlist.append(str(d))\n",
    "            # if i >1:\n",
    "            #     break\n",
    "            # i+=1\n",
    "            \n",
    "\n",
    "        #print(csvlist[0])\n",
    "        setdf=nt.csvs_to_df(csvlist)"
   ]
  },
  {
   "cell_type": "code",
   "execution_count": 6,
   "metadata": {},
   "outputs": [
    {
     "name": "stdout",
     "output_type": "stream",
     "text": [
      "angle_between_pts_df done with 1.7-378.csv\n"
     ]
    },
    {
     "ename": "KeyboardInterrupt",
     "evalue": "",
     "output_type": "error",
     "traceback": [
      "\u001b[0;31m---------------------------------------------------------------------------\u001b[0m",
      "\u001b[0;31mKeyboardInterrupt\u001b[0m                         Traceback (most recent call last)",
      "\u001b[1;32m/home/agoga/documents/code/topcon-md/lmpWrapper.ipynb Cell 2\u001b[0m in \u001b[0;36m1\n\u001b[1;32m      <a href='vscode-notebook-cell:/home/agoga/documents/code/topcon-md/lmpWrapper.ipynb#W1sZmlsZQ%3D%3D?line=0'>1</a>\u001b[0m \u001b[39m#nt.plot_multi_distribution(setdf,\"FEB\")\u001b[39;00m\n\u001b[1;32m      <a href='vscode-notebook-cell:/home/agoga/documents/code/topcon-md/lmpWrapper.ipynb#W1sZmlsZQ%3D%3D?line=1'>2</a>\u001b[0m \u001b[39m#nt.plot_vz_df(setdf)\u001b[39;00m\n\u001b[1;32m      <a href='vscode-notebook-cell:/home/agoga/documents/code/topcon-md/lmpWrapper.ipynb#W1sZmlsZQ%3D%3D?line=2'>3</a>\u001b[0m \u001b[39m# comboH=nt.df_combine_H(setdf)\u001b[39;00m\n\u001b[0;32m   (...)\u001b[0m\n\u001b[1;32m      <a href='vscode-notebook-cell:/home/agoga/documents/code/topcon-md/lmpWrapper.ipynb#W1sZmlsZQ%3D%3D?line=5'>6</a>\u001b[0m \n\u001b[1;32m      <a href='vscode-notebook-cell:/home/agoga/documents/code/topcon-md/lmpWrapper.ipynb#W1sZmlsZQ%3D%3D?line=6'>7</a>\u001b[0m \u001b[39m#rdf=nt.plot_rangehist(setdf,[6,9,12,15],'O',skip=False)\u001b[39;00m\n\u001b[1;32m      <a href='vscode-notebook-cell:/home/agoga/documents/code/topcon-md/lmpWrapper.ipynb#W1sZmlsZQ%3D%3D?line=7'>8</a>\u001b[0m ndf\u001b[39m=\u001b[39msetdf[setdf[\u001b[39m\"\u001b[39m\u001b[39mcsvname\u001b[39m\u001b[39m\"\u001b[39m]\u001b[39m!=\u001b[39m\u001b[39m\"\u001b[39m\u001b[39m1.6-1.csv\u001b[39m\u001b[39m\"\u001b[39m]\n\u001b[0;32m---> <a href='vscode-notebook-cell:/home/agoga/documents/code/topcon-md/lmpWrapper.ipynb#W1sZmlsZQ%3D%3D?line=9'>10</a>\u001b[0m nt\u001b[39m.\u001b[39;49mplot_pair_angle(setdf,\u001b[39m\"\u001b[39;49m\u001b[39mFEB\u001b[39;49m\u001b[39m\"\u001b[39;49m)\n",
      "File \u001b[0;32m~/documents/code/topcon-md/py/NEBTools.py:643\u001b[0m, in \u001b[0;36mplot_pair_angle\u001b[0;34m(basedf, col)\u001b[0m\n\u001b[1;32m    640\u001b[0m colranges\u001b[39m=\u001b[39m[\u001b[39m0\u001b[39m,\u001b[39m1.8\u001b[39m,\u001b[39m2.8\u001b[39m,\u001b[39m3.8\u001b[39m,\u001b[39m10\u001b[39m]\n\u001b[1;32m    641\u001b[0m valcol\u001b[39m=\u001b[39m\u001b[39m\"\u001b[39m\u001b[39mPair angle\u001b[39m\u001b[39m\"\u001b[39m\n\u001b[0;32m--> 643\u001b[0m df\u001b[39m=\u001b[39mangle_between_pts_df(df,col,valcol)\n\u001b[1;32m    644\u001b[0m \u001b[39m#print(df.to_string())\u001b[39;00m\n\u001b[1;32m    646\u001b[0m units\u001b[39m=\u001b[39m\u001b[39m\"\u001b[39m\u001b[39m°\u001b[39m\u001b[39m\"\u001b[39m \n",
      "File \u001b[0;32m~/documents/code/topcon-md/py/NEBTools.py:606\u001b[0m, in \u001b[0;36mangle_between_pts_df\u001b[0;34m(df, col, valcol)\u001b[0m\n\u001b[1;32m    602\u001b[0m dfc\u001b[39m=\u001b[39mdf[df[\u001b[39m\"\u001b[39m\u001b[39mcsvname\u001b[39m\u001b[39m\"\u001b[39m]\u001b[39m==\u001b[39mcsvfile]\n\u001b[1;32m    603\u001b[0m (ratio,Hnum)\u001b[39m=\u001b[39mstats_from_csv_name(csvfile)\n\u001b[0;32m--> 606\u001b[0m (posdf,box)\u001b[39m=\u001b[39mload_data_and_bonds_from_csv(csvfile)\n\u001b[1;32m    608\u001b[0m \u001b[39mfor\u001b[39;00m index, row \u001b[39min\u001b[39;00m dfc\u001b[39m.\u001b[39miterrows():\n\u001b[1;32m    609\u001b[0m     curcol\u001b[39m=\u001b[39mrow[col]\n",
      "File \u001b[0;32m~/documents/code/topcon-md/py/NEBTools.py:426\u001b[0m, in \u001b[0;36mload_data_and_bonds_from_csv\u001b[0;34m(csvname)\u001b[0m\n\u001b[1;32m    424\u001b[0m \u001b[39mglobal\u001b[39;00m datafolder\n\u001b[1;32m    425\u001b[0m datafile\u001b[39m=\u001b[39mcsvname\u001b[39m.\u001b[39mremovesuffix(\u001b[39m'\u001b[39m\u001b[39m.dat\u001b[39m\u001b[39m'\u001b[39m)\u001b[39m.\u001b[39mremovesuffix(\u001b[39m'\u001b[39m\u001b[39m.data\u001b[39m\u001b[39m'\u001b[39m)\u001b[39m.\u001b[39mremovesuffix(\u001b[39m'\u001b[39m\u001b[39m.dump\u001b[39m\u001b[39m'\u001b[39m)\u001b[39m.\u001b[39mremovesuffix(\u001b[39m'\u001b[39m\u001b[39m.csv\u001b[39m\u001b[39m'\u001b[39m)\u001b[39m+\u001b[39m\u001b[39m'\u001b[39m\u001b[39m.dat\u001b[39m\u001b[39m'\u001b[39m\n\u001b[0;32m--> 426\u001b[0m \u001b[39mreturn\u001b[39;00m read_file_data_bonds(datafolder,datafile)\n",
      "File \u001b[0;32m~/documents/code/topcon-md/py/NEBTools.py:315\u001b[0m, in \u001b[0;36mread_file_data_bonds\u001b[0;34m(datapath, dfile)\u001b[0m\n\u001b[1;32m    313\u001b[0m filename\u001b[39m=\u001b[39mdfile\u001b[39m.\u001b[39mremovesuffix(\u001b[39m'\u001b[39m\u001b[39m.dat\u001b[39m\u001b[39m'\u001b[39m)\u001b[39m.\u001b[39mremovesuffix(\u001b[39m'\u001b[39m\u001b[39m.data\u001b[39m\u001b[39m'\u001b[39m)\u001b[39m.\u001b[39mremovesuffix(\u001b[39m'\u001b[39m\u001b[39m.dump\u001b[39m\u001b[39m'\u001b[39m)\n\u001b[1;32m    314\u001b[0m bondfile\u001b[39m=\u001b[39mfilename\u001b[39m+\u001b[39m\u001b[39m\"\u001b[39m\u001b[39m.bonds\u001b[39m\u001b[39m\"\u001b[39m\n\u001b[0;32m--> 315\u001b[0m create_bond_file(datapath,dfile,bondfile)\n\u001b[1;32m    316\u001b[0m df\u001b[39m=\u001b[39mread_bonds(dfdata,datapath\u001b[39m+\u001b[39m\u001b[39m'\u001b[39m\u001b[39m/scratchfolder/\u001b[39m\u001b[39m'\u001b[39m\u001b[39m+\u001b[39mbondfile)\n\u001b[1;32m    318\u001b[0m \u001b[39mreturn\u001b[39;00m (df,simbox)\n",
      "File \u001b[0;32m~/documents/code/topcon-md/py/NEBTools.py:163\u001b[0m, in \u001b[0;36mcreate_bond_file\u001b[0;34m(datapath, file, bondfile)\u001b[0m\n\u001b[1;32m    161\u001b[0m \u001b[39mdef\u001b[39;00m \u001b[39mcreate_bond_file\u001b[39m(datapath, file,bondfile):\n\u001b[1;32m    162\u001b[0m     L\u001b[39m=\u001b[39m lammps(\u001b[39m'\u001b[39m\u001b[39mmpi\u001b[39m\u001b[39m'\u001b[39m,[\u001b[39m\"\u001b[39m\u001b[39m-log\u001b[39m\u001b[39m\"\u001b[39m,\u001b[39mf\u001b[39m\u001b[39m'\u001b[39m\u001b[39m{\u001b[39;00mdatapath\u001b[39m}\u001b[39;00m\u001b[39m/scratchfolder/CreateBonds.log\u001b[39m\u001b[39m'\u001b[39m,\u001b[39m\"\u001b[39m\u001b[39m-screen\u001b[39m\u001b[39m\"\u001b[39m,\u001b[39m'\u001b[39m\u001b[39mnone\u001b[39m\u001b[39m'\u001b[39m])\n\u001b[0;32m--> 163\u001b[0m     L\u001b[39m.\u001b[39;49mcommands_string(\u001b[39mf\u001b[39;49m\u001b[39m'''\u001b[39;49m\n\u001b[1;32m    164\u001b[0m \u001b[39m        clear\u001b[39;49m\n\u001b[1;32m    165\u001b[0m \u001b[39m        units         real\u001b[39;49m\n\u001b[1;32m    166\u001b[0m \u001b[39m        dimension     3\u001b[39;49m\n\u001b[1;32m    167\u001b[0m \u001b[39m        boundary    p p p\u001b[39;49m\n\u001b[1;32m    168\u001b[0m \u001b[39m        atom_style  charge\u001b[39;49m\n\u001b[1;32m    169\u001b[0m \u001b[39m        atom_modify map yes\u001b[39;49m\n\u001b[1;32m    170\u001b[0m \n\u001b[1;32m    171\u001b[0m \n\u001b[1;32m    172\u001b[0m \u001b[39m        #atom_modify map array\u001b[39;49m\n\u001b[1;32m    173\u001b[0m \u001b[39m        variable seed equal 12345\u001b[39;49m\n\u001b[1;32m    174\u001b[0m \u001b[39m        variable NA equal 6.02e23\u001b[39;49m\n\u001b[1;32m    175\u001b[0m \n\u001b[1;32m    176\u001b[0m \u001b[39m        timestep 0.5\u001b[39;49m\n\u001b[1;32m    177\u001b[0m \n\u001b[1;32m    178\u001b[0m \u001b[39m        variable printevery equal 100\u001b[39;49m\n\u001b[1;32m    179\u001b[0m \u001b[39m        variable restartevery equal 0\u001b[39;49m\n\u001b[1;32m    180\u001b[0m \u001b[39m        variable datapath string \u001b[39;49m\u001b[39m\"\u001b[39;49m\u001b[39mdata/\u001b[39;49m\u001b[39m\"\u001b[39;49m\n\u001b[1;32m    181\u001b[0m \n\u001b[1;32m    182\u001b[0m \n\u001b[1;32m    183\u001b[0m \u001b[39m        variable massSi equal 28.0855 #Si\u001b[39;49m\n\u001b[1;32m    184\u001b[0m \u001b[39m        variable massO equal 15.9991 #O\u001b[39;49m\n\u001b[1;32m    185\u001b[0m \u001b[39m        variable massH equal  1.00784 #H\u001b[39;49m\n\u001b[1;32m    186\u001b[0m \u001b[39m        \u001b[39;49m\n\u001b[1;32m    187\u001b[0m \n\u001b[1;32m    188\u001b[0m \u001b[39m        read_data \u001b[39;49m\u001b[39m{\u001b[39;49;00mdatapath\u001b[39m+\u001b[39;49mfile\u001b[39m}\u001b[39;49;00m\n\u001b[1;32m    189\u001b[0m \u001b[39m        \u001b[39;49m\n\u001b[1;32m    190\u001b[0m \u001b[39m        mass         3 $(v_massH)\u001b[39;49m\n\u001b[1;32m    191\u001b[0m \u001b[39m        mass         2 $(v_massO)\u001b[39;49m\n\u001b[1;32m    192\u001b[0m \u001b[39m        mass         1 $(v_massSi)\u001b[39;49m\n\u001b[1;32m    193\u001b[0m \n\u001b[1;32m    194\u001b[0m \n\u001b[1;32m    195\u001b[0m \u001b[39m        min_style quickmin\u001b[39;49m\n\u001b[1;32m    196\u001b[0m \u001b[39m        \u001b[39;49m\n\u001b[1;32m    197\u001b[0m \u001b[39m        pair_style\t    reaxff /home/agoga/documents/code/topcon-md/potential/topcon.control\u001b[39;49m\n\u001b[1;32m    198\u001b[0m \u001b[39m        pair_coeff\t    * * /home/agoga/documents/code/topcon-md/potential/ffield_Nayir_SiO_2019.reax Si O H\u001b[39;49m\n\u001b[1;32m    199\u001b[0m \n\u001b[1;32m    200\u001b[0m \u001b[39m        neighbor        2 bin\u001b[39;49m\n\u001b[1;32m    201\u001b[0m \u001b[39m        neigh_modify    every 10 delay 0 check no\u001b[39;49m\n\u001b[1;32m    202\u001b[0m \u001b[39m        \u001b[39;49m\n\u001b[1;32m    203\u001b[0m \u001b[39m        thermo $(v_printevery)\u001b[39;49m\n\u001b[1;32m    204\u001b[0m \u001b[39m        thermo_style custom step temp density press vol pe ke etotal #flush yes\u001b[39;49m\n\u001b[1;32m    205\u001b[0m \u001b[39m        thermo_modify lost ignore\u001b[39;49m\n\u001b[1;32m    206\u001b[0m \u001b[39m        \u001b[39;49m\n\u001b[1;32m    207\u001b[0m \u001b[39m        region sim block EDGE EDGE EDGE EDGE EDGE EDGE\u001b[39;49m\n\u001b[1;32m    208\u001b[0m \u001b[39m        \u001b[39;49m\n\u001b[1;32m    209\u001b[0m \u001b[39m        fix r1 all qeq/reax 1 0.0 10.0 1e-6 reaxff\u001b[39;49m\n\u001b[1;32m    210\u001b[0m \u001b[39m        compute c1 all property/atom x y z\u001b[39;49m\n\u001b[1;32m    211\u001b[0m \u001b[39m        fix f1 all reaxff/bonds 1 \u001b[39;49m\u001b[39m{\u001b[39;49;00mdatapath\u001b[39m}\u001b[39;49;00m\u001b[39m/scratchfolder/\u001b[39;49m\u001b[39m{\u001b[39;49;00mbondfile\u001b[39m}\u001b[39;49;00m\n\u001b[1;32m    212\u001b[0m \u001b[39m        \u001b[39;49m\n\u001b[1;32m    213\u001b[0m \u001b[39m        run 0\u001b[39;49m\n\u001b[1;32m    214\u001b[0m \u001b[39m        \u001b[39;49m\u001b[39m'''\u001b[39;49m)\n",
      "File \u001b[0;32m/usr/local/lib/python3.10/dist-packages/lammps/core.py:618\u001b[0m, in \u001b[0;36mlammps.commands_string\u001b[0;34m(self, multicmd)\u001b[0m\n\u001b[1;32m    615\u001b[0m \u001b[39mif\u001b[39;00m \u001b[39mtype\u001b[39m(multicmd) \u001b[39mis\u001b[39;00m \u001b[39mstr\u001b[39m: multicmd \u001b[39m=\u001b[39m multicmd\u001b[39m.\u001b[39mencode()\n\u001b[1;32m    617\u001b[0m \u001b[39mwith\u001b[39;00m ExceptionCheck(\u001b[39mself\u001b[39m):\n\u001b[0;32m--> 618\u001b[0m   \u001b[39mself\u001b[39;49m\u001b[39m.\u001b[39;49mlib\u001b[39m.\u001b[39;49mlammps_commands_string(\u001b[39mself\u001b[39;49m\u001b[39m.\u001b[39;49mlmp,c_char_p(multicmd))\n",
      "\u001b[0;31mKeyboardInterrupt\u001b[0m: "
     ]
    }
   ],
   "source": [
    "#nt.plot_multi_distribution(setdf,\"FEB\")\n",
    "#nt.plot_vz_df(setdf)\n",
    "# comboH=nt.df_combine_H(setdf)\n",
    "\n",
    "#nt.sparse_graph(setdf)\n",
    "\n",
    "#rdf=nt.plot_rangehist(setdf,[6,9,12,15],'O',skip=False)\n",
    "ndf=setdf[setdf[\"csvname\"]!=\"1.6-1.csv\"]\n",
    "\n",
    "nt.plot_pair_angle(setdf,\"FEB\") \n",
    " \n",
    "#setdf=nt.csvs_to_df(csvlist)   \n",
    "\n",
    "#rangeddf =nt.check_si_O_bonds(setdf,\"FEB\")\n",
    "\n",
    "\n",
    "\n",
    "# ratios=df[\"ratio\"].unique()\n",
    "\n",
    "# for r in ratios:\n",
    "\n",
    "#     hnum=df[df[\"ratio\"]==r]['Hnum'].tolist()\n",
    "# #.plot(kind='scatter', x=\"Hnum\",y='mean')\n",
    "#     mean=df[df[\"ratio\"]==r]['mean'].tolist()\n",
    "#     plt.scatter(hnum,mean,)   \n",
    "# plt.show()"
   ]
  },
  {
   "cell_type": "markdown",
   "metadata": {},
   "source": []
  },
  {
   "cell_type": "markdown",
   "metadata": {},
   "source": []
  },
  {
   "cell_type": "code",
   "execution_count": 15,
   "metadata": {},
   "outputs": [
    {
     "name": "stdout",
     "output_type": "stream",
     "text": [
      "The autoreload extension is already loaded. To reload it, use:\n",
      "  %reload_ext autoreload\n"
     ]
    },
    {
     "data": {
      "image/png": "[encoded data removed]",
      "text/plain": [
       "<Figure size 640x480 with 1 Axes>"
      ]
     },
     "metadata": {},
     "output_type": "display_data"
    },
    {
     "data": {
      "image/png": "[encoded data removed]",
      "text/plain": [
       "<Figure size 640x480 with 1 Axes>"
      ]
     },
     "metadata": {},
     "output_type": "display_data"
    }
   ],
   "source": [
    "%load_ext autoreload\n",
    "%autoreload 2\n",
    "import matplotlib.pyplot as plt\n",
    "import pandas\n",
    "import numpy as np\n",
    "import py.NEBTools as nt\n",
    "\n",
    "datapath=\"/home/agoga/documents/code/topcon-md/data/neb/\"\n",
    "dfile =\"1.8-563.dat\"\n",
    "filename=dfile.removesuffix('.dat').removesuffix('.data').removesuffix('.dump')\n",
    "bondfile=filename+\".bonds\"\n",
    "\n",
    "(atoms,simbox) = nt.read_file_data_bonds(datapath,dfile)\n",
    "midz=5\n",
    "zext=(simbox[2,1]-simbox[2,0])\n",
    "\n",
    "type1='O'\n",
    "type2='H'\n",
    "\n",
    "t1atoms=atoms[atoms['type']==type1]\n",
    "\n",
    "\n",
    "distlist=[]\n",
    "bolist=[]\n",
    "obolist=[]\n",
    "zlist=[]\n",
    "\n",
    "for i, row in t1atoms.iterrows():\n",
    "        curpos=row['pos']\n",
    "        curz=curpos[2]\n",
    "        nindices = row['bonds']\n",
    "        t2n=[]\n",
    "        allt1neigh=[]\n",
    "        \n",
    "        for ni in nindices:\n",
    "            n=ni[0]\n",
    "            allt1neigh.append(n)\n",
    "            bo=ni[1]\n",
    "            \n",
    "            neitype=atoms.at[n,'type']\n",
    "            neipos=atoms.at[n,'pos']\n",
    "            nz=neipos[2]\n",
    "            if neitype ==type2:\n",
    "                t2n.append(n)\n",
    "                \n",
    "                dist=nt.pbc_dist(simbox,curpos,neipos)\n",
    "                \n",
    "                \n",
    "                if (curz > midz and nz < midz):\n",
    "                    nz+=zext\n",
    "                if (curz < midz and nz > midz):\n",
    "                    curz+=zext\n",
    "                avgz=(curz+nz)/2\n",
    "                \n",
    "                distlist.append(dist)\n",
    "                zlist.append(avgz)\n",
    "                bolist.append(bo)\n",
    "                \n",
    "                # if dist > 2:\n",
    "                #     print(f\"ParticleIdentifier=={i}||ParticleIdentifier=={n}\")\n",
    "            \n",
    "            \n",
    "        # for nei in t2n:\n",
    "        #     neibonds = atoms.at[nei,'bonds']\n",
    "            \n",
    "        #     for neib in neibonds:\n",
    "        #         nei=neib[0]\n",
    "        #         neibo=neib[1]\n",
    "        #         neineitype = atoms.at[nei,\"type\"]\n",
    "                \n",
    "        #         if neineitype ==type1:\n",
    "        #             for ni in nindices:\n",
    "        #                 if nei == ni[0]:\n",
    "        #                     obolist.append(nei[1])\n",
    "                        \n",
    "\n",
    "fig, ax = plt.subplots()\n",
    "plt.title(f'Bond order versus distance for {type1} and {type2} atoms in {dfile}.')\n",
    "plt.ylabel(\"ReaxFF bond order for pair\")\n",
    "plt.xlabel(r'Seperation distance($\\AA$)')\n",
    "ax.scatter(distlist,bolist)\n",
    "# ax.set_ylim(0.7)\n",
    "plt.show()\n",
    "\n",
    "# fig, ax = plt.subplots()\n",
    "# plt.title(f'Seperation distance versus average z for pairs on {type1} and {type2} in {dfile}.')\n",
    "# ax.scatter(zlist,distlist)\n",
    "# plt.ylabel(r'Seperation distance($\\AA$)')\n",
    "# plt.xlabel(r'Average z coordinate of a pair of atoms($\\AA$)')\n",
    "# plt.show()\n",
    "\n",
    "\n",
    "# ax.scatter(zlist,distlist)\n",
    "\n",
    "plt.hist(distlist,25)\n",
    "plt.show()\n",
    "\n",
    "                \n",
    "                \n",
    "                "
   ]
  },
  {
   "cell_type": "code",
   "execution_count": null,
   "metadata": {},
   "outputs": [
    {
     "name": "stdout",
     "output_type": "stream",
     "text": [
      "The autoreload extension is already loaded. To reload it, use:\n",
      "  %reload_ext autoreload\n",
      "     type         q          x          y          z                                                            pos nb                                                                     bonds      dist\n",
      "id                                                                                                                                                                                                        \n",
      "2      Si -0.079973   2.491411   2.240447   0.603007   [2.4914107933193943, 2.2404467671012775, 0.6030071848072305]  5          [[1, 0.817], [92, 0.538], [93, 0.804], [101, 0.951], [6, 0.817]]  2.241848\n",
      "3      Si -0.009975   2.318436   5.032381   2.969141    [2.3184357294506466, 5.032381286714575, 2.9691414432495087]  4                        [[4, 0.757], [6, 0.793], [13, 0.774], [20, 0.773]]  4.429566\n",
      "5      Si  0.020546   5.109902   2.345737   3.047204     [5.109902446990848, 2.3457371712643083, 3.047203741032278]  4                         [[6, 0.764], [9, 0.788], [14, 0.792], [15, 0.78]]  4.306879\n",
      "6      Si -0.001841   3.726789   3.700943   1.770847     [3.726789356856187, 3.7009434512490875, 1.770846960379743]  4                          [[2, 0.817], [3, 0.793], [5, 0.764], [8, 0.779]]  3.764250\n",
      "11     Si  0.000152   2.404995   2.324372   5.601757      [2.404995007619011, 2.324372101068656, 5.601756983972887]  4                      [[13, 0.773], [15, 0.786], [10, 0.781], [19, 0.786]]  4.170643\n",
      "13     Si -0.004855   1.040812   3.639151   4.287279     [1.0408120634092537, 3.639150830465027, 4.287278792429915]  4                   [[3, 0.774], [11, 0.773], [5597, 0.776], [5607, 0.779]]  3.674204\n",
      "15     Si -0.003304   3.820884   0.997879   4.387562    [3.8208840319648973, 0.9978791024978307, 4.387562245025257]  4                       [[5, 0.78], [11, 0.786], [676, 0.799], [691, 0.78]]  3.612209\n",
      "92     Si  0.272431   0.681425   3.239998  31.423455    [0.6814249360237139, 3.2399981188698597, 31.42345456301086]  5        [[91, 0.711], [96, 0.946], [101, 0.95], [5598, 0.741], [2, 0.538]]  3.680885\n",
      "93     Si  1.095440   3.996797   1.472765  31.425500     [3.996796868864611, 1.472764754022789, 31.425500476443137]  4                      [[94, 0.948], [95, 0.943], [102, 0.944], [2, 0.804]]  3.954926\n",
      "94      O -0.734128   4.950816   2.672581  31.430826        [4.95081579595194, 2.67258059744636, 31.43082574540154]  2                                                [[89, 0.942], [93, 0.948]]  4.964977\n",
      "95      O -0.740089   3.139536   1.235667  30.160415   [3.1395361574859364, 1.2356670932380172, 30.160414826749594]  2                                                [[93, 0.943], [97, 0.944]]  4.474688\n",
      "96      O -0.513017   0.017390   1.950415  30.911123  [0.01738985939471366, 1.9504154917648395, 30.911123084994237]  2                                              [[92, 0.946], [5680, 0.948]]  3.661343\n",
      "101     H  0.097528   1.595917   2.755632  32.177479    [1.595917032945496, 2.7556324013987252, 32.177478964523615]  2                                                  [[92, 0.95], [2, 0.951]]  2.776983\n",
      "102     O -0.639715   4.363055   0.263414  32.310038     [4.36305474165127, 0.26341399085852163, 32.31003792172518]  2                                               [[93, 0.944], [681, 0.942]]  3.703219\n",
      "676    Si -0.002825   2.511273  53.458707   3.191348    [2.511272876619058, 53.458707054975974, 3.1913478748304223]  4                     [[680, 0.793], [686, 0.792], [1, 0.811], [15, 0.799]]  2.251289\n",
      "677    Si  1.029965   1.988003  51.093576   0.211206    [1.988003461827562, 51.09357563842545, 0.21120610986815286]  4                  [[674, 0.728], [756, 0.942], [684, 0.937], [679, 0.939]]  4.091413\n",
      "679     O -0.607205   3.234751  51.322024   1.116527     [3.234751192087512, 51.322023976634874, 1.116526863952959]  2                                               [[677, 0.939], [680, 0.94]]  4.045843\n",
      "680    Si  0.302711   4.065776  52.239348   2.057289     [4.065776036680336, 52.23934823741167, 2.0572888122471276]  4                   [[676, 0.793], [678, 0.818], [679, 0.94], [681, 0.816]]  3.793622\n",
      "681    Si  0.308421   5.470005  53.305522   0.670936    [5.470005042573703, 53.305522059713965, 0.6709363585449368]  4                    [[680, 0.816], [764, 0.779], [102, 0.942], [9, 0.824]]  4.634120\n",
      "686    Si  0.006646   1.115568  52.125200   4.405628     [1.1155677083933437, 52.12520018267572, 4.405628165252235]  4                [[676, 0.792], [6289, 0.791], [6307, 0.781], [687, 0.789]]  3.658846\n",
      "684     O -0.621258   0.880534  52.185413  32.376628   [0.8805338301842629, 52.185413397684215, 32.376628213291696]  2                                              [[683, 0.939], [677, 0.937]]  3.169857\n",
      "5593   Si -0.029393  52.203207   3.464399   1.727530     [52.20320736158792, 3.464398925703437, 1.7275299871471985]  4               [[5596, 0.789], [5597, 0.781], [5598, 0.822], [5686, 0.78]]  3.893394\n",
      "5597   Si -0.011165  53.627786   2.212855   3.021719     [53.62778571234415, 2.212855318599841, 3.0217194309772073]  4                   [[5593, 0.781], [5608, 0.784], [1, 0.775], [13, 0.776]]  2.304391\n",
      "5598   Si -0.005022  53.404911   4.808611   0.409592    [53.40491144017177, 4.808610853715061, 0.40959192080848617]  4                   [[5593, 0.822], [5679, 0.761], [92, 0.741], [4, 0.747]]  4.524319\n",
      "5686   Si  0.385684  50.786591   2.325486   0.323119   [50.78659073070433, 2.3254857415522183, 0.32311947424727094]  4               [[5591, 0.752], [5593, 0.78], [5676, 0.656], [5683, 0.938]]  4.815272\n",
      "5608   Si -0.008976  52.216612   0.935032   4.297244     [52.21661155524223, 0.9350315990565067, 4.297243668495833]  4              [[5597, 0.784], [5606, 0.776], [6296, 0.779], [6307, 0.773]]  3.780424\n",
      "5678    H  0.034724  53.365295   0.130876  31.931523   [53.365295254525606, 0.1308764676749031, 31.931522999098704]  2                                              [[5680, 0.944], [683, 0.94]]  2.955474\n",
      "5680   Si  0.566738  52.846405   0.834919  30.965839    [52.84640543514455, 0.8349190214196496, 30.965839165538057]  5  [[5678, 0.944], [6395, 0.508], [5683, 0.941], [96, 0.948], [683, 0.473]]  3.944544\n",
      "5683    O -0.544459  51.730193   1.297430  31.951232    [51.73019267693412, 1.2974302468078942, 31.951232351054934]  2                                            [[5680, 0.941], [5686, 0.938]]  4.079764\n",
      "6289   Si  0.012481  53.636110  50.783125   3.155966     [53.63611034210363, 50.78312456386625, 3.1559658416739516]  4                  [[6294, 0.8], [6310, 0.786], [674, 0.787], [686, 0.791]]  4.431679\n",
      "6294   Si -0.045643  52.342369  52.142614   1.881476     [52.34236909311528, 52.142614343868125, 1.881475597818355]  4                   [[6289, 0.8], [6292, 0.8], [6296, 0.777], [683, 0.775]]  3.809845\n",
      "6296   Si  0.016977  50.854063  53.507061   2.986184      [50.85406309177018, 53.5070612159523, 2.9861842270950154]  4              [[6294, 0.777], [6306, 0.775], [5591, 0.749], [5608, 0.779]]  4.577186\n",
      "683    Si  0.299510  53.858640  53.326939   0.613427     [53.85864003955865, 53.32693932374444, 0.6134269238092227]  5    [[6294, 0.775], [684, 0.939], [5678, 0.94], [5680, 0.473], [1, 0.793]]  2.279034\n",
      "6307   Si -0.004394  53.587259  53.491307   5.599376       [53.5872586457274, 53.49130666826132, 5.599375916470576]  4                 [[686, 0.781], [5608, 0.773], [6304, 0.787], [10, 0.783]]  4.225635\n"
     ]
    }
   ],
   "source": [
    "%load_ext autoreload\n",
    "%autoreload 2\n",
    "import pandas as pd\n",
    "import numpy as np\n",
    "import py.NEBTools as nt\n",
    "from IPython.display import display, HTML\n",
    "\n",
    "\n",
    "datapath=\"/home/agoga/documents/code/topcon-md/data/neb/\"\n",
    "dfile =\"1.8-563.dat\"\n",
    "filename=dfile.removesuffix('.dat').removesuffix('.data').removesuffix('.dump')\n",
    "\n",
    "(atoms,simbox) = nt.read_file_data_bonds(datapath,dfile)\n",
    "close=nt.atoms_in_radius(atoms,simbox,1,5)\n",
    "print(close.to_string())\n"
   ]
  },
  {
   "cell_type": "code",
   "execution_count": null,
   "metadata": {},
   "outputs": [],
   "source": []
  }
 ],
 "metadata": {
  "kernelspec": {
   "display_name": "Python 3.10.4 64-bit",
   "language": "python",
   "name": "python3"
  },
  "language_info": {
   "codemirror_mode": {
    "name": "ipython",
    "version": 3
   },
   "file_extension": ".py",
   "mimetype": "text/x-python",
   "name": "python",
   "nbconvert_exporter": "python",
   "pygments_lexer": "ipython3",
   "version": "3.10.12"
  },
  "orig_nbformat": 4,
  "vscode": {
   "interpreter": {
    "hash": "767d51c1340bd893661ea55ea3124f6de3c7a262a8b4abca0554b478b1e2ff90"
   }
  }
 },
 "nbformat": 4,
 "nbformat_minor": 2
}
